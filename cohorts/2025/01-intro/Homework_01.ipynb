{
  "nbformat": 4,
  "nbformat_minor": 0,
  "metadata": {
    "colab": {
      "provenance": [],
      "authorship_tag": "ABX9TyOW5P8r6K8+hiGnrU0RgVII",
      "include_colab_link": true
    },
    "kernelspec": {
      "name": "python3",
      "display_name": "Python 3"
    },
    "language_info": {
      "name": "python"
    }
  },
  "cells": [
    {
      "cell_type": "markdown",
      "metadata": {
        "id": "view-in-github",
        "colab_type": "text"
      },
      "source": [
        "<a href=\"https://colab.research.google.com/github/oleksiyo/machine-learning-zoomcamp/blob/master/cohorts/2025/01-intro/Homework_01.ipynb\" target=\"_parent\"><img src=\"https://colab.research.google.com/assets/colab-badge.svg\" alt=\"Open In Colab\"/></a>"
      ]
    },
    {
      "cell_type": "markdown",
      "source": [
        "# Import packages"
      ],
      "metadata": {
        "id": "QTuztpYQsdqs"
      }
    },
    {
      "cell_type": "code",
      "execution_count": 3,
      "metadata": {
        "id": "2KknR6UQrAiv"
      },
      "outputs": [],
      "source": [
        "import pandas as pd\n",
        "import numpy as np\n",
        "import matplotlib\n",
        "import seaborn as sns"
      ]
    },
    {
      "cell_type": "markdown",
      "source": [
        "# Downloading the dataset"
      ],
      "metadata": {
        "id": "_TcKW4MBsl8Z"
      }
    },
    {
      "cell_type": "code",
      "source": [
        "!wget https://raw.githubusercontent.com/alexeygrigorev/datasets/master/car_fuel_efficiency.csv"
      ],
      "metadata": {
        "colab": {
          "base_uri": "https://localhost:8080/"
        },
        "id": "YL-CfgOmsr2f",
        "outputId": "df75b864-4aee-4ca9-fa9b-564121cca18f"
      },
      "execution_count": 4,
      "outputs": [
        {
          "output_type": "stream",
          "name": "stdout",
          "text": [
            "--2025-10-01 14:16:46--  https://raw.githubusercontent.com/alexeygrigorev/datasets/master/car_fuel_efficiency.csv\n",
            "Resolving raw.githubusercontent.com (raw.githubusercontent.com)... 185.199.108.133, 185.199.109.133, 185.199.110.133, ...\n",
            "Connecting to raw.githubusercontent.com (raw.githubusercontent.com)|185.199.108.133|:443... connected.\n",
            "HTTP request sent, awaiting response... 200 OK\n",
            "Length: 874188 (854K) [text/plain]\n",
            "Saving to: ‘car_fuel_efficiency.csv.1’\n",
            "\n",
            "car_fuel_efficiency 100%[===================>] 853.70K  --.-KB/s    in 0.05s   \n",
            "\n",
            "2025-10-01 14:16:48 (17.9 MB/s) - ‘car_fuel_efficiency.csv.1’ saved [874188/874188]\n",
            "\n"
          ]
        }
      ]
    },
    {
      "cell_type": "markdown",
      "source": [],
      "metadata": {
        "id": "4yTZRMdys9u3"
      }
    },
    {
      "cell_type": "markdown",
      "source": [
        "# Loading the dataset as a DataFrame"
      ],
      "metadata": {
        "id": "VN0_N4_7tHZh"
      }
    },
    {
      "cell_type": "code",
      "source": [
        "df = pd.read_csv(\"/content/car_fuel_efficiency.csv\")\n",
        "df.head()"
      ],
      "metadata": {
        "colab": {
          "base_uri": "https://localhost:8080/",
          "height": 313
        },
        "id": "ttnuSDNEtJco",
        "outputId": "592b03d6-8f0f-46a4-85c1-b8aba671abd3"
      },
      "execution_count": 5,
      "outputs": [
        {
          "output_type": "execute_result",
          "data": {
            "text/plain": [
              "   engine_displacement  num_cylinders  horsepower  vehicle_weight  \\\n",
              "0                  170            3.0       159.0     3413.433759   \n",
              "1                  130            5.0        97.0     3149.664934   \n",
              "2                  170            NaN        78.0     3079.038997   \n",
              "3                  220            4.0         NaN     2542.392402   \n",
              "4                  210            1.0       140.0     3460.870990   \n",
              "\n",
              "   acceleration  model_year  origin fuel_type         drivetrain  num_doors  \\\n",
              "0          17.7        2003  Europe  Gasoline    All-wheel drive        0.0   \n",
              "1          17.8        2007     USA  Gasoline  Front-wheel drive        0.0   \n",
              "2          15.1        2018  Europe  Gasoline  Front-wheel drive        0.0   \n",
              "3          20.2        2009     USA    Diesel    All-wheel drive        2.0   \n",
              "4          14.4        2009  Europe  Gasoline    All-wheel drive        2.0   \n",
              "\n",
              "   fuel_efficiency_mpg  \n",
              "0            13.231729  \n",
              "1            13.688217  \n",
              "2            14.246341  \n",
              "3            16.912736  \n",
              "4            12.488369  "
            ],
            "text/html": [
              "\n",
              "  <div id=\"df-39b16858-28d0-4ec4-ac18-752d3d4c0837\" class=\"colab-df-container\">\n",
              "    <div>\n",
              "<style scoped>\n",
              "    .dataframe tbody tr th:only-of-type {\n",
              "        vertical-align: middle;\n",
              "    }\n",
              "\n",
              "    .dataframe tbody tr th {\n",
              "        vertical-align: top;\n",
              "    }\n",
              "\n",
              "    .dataframe thead th {\n",
              "        text-align: right;\n",
              "    }\n",
              "</style>\n",
              "<table border=\"1\" class=\"dataframe\">\n",
              "  <thead>\n",
              "    <tr style=\"text-align: right;\">\n",
              "      <th></th>\n",
              "      <th>engine_displacement</th>\n",
              "      <th>num_cylinders</th>\n",
              "      <th>horsepower</th>\n",
              "      <th>vehicle_weight</th>\n",
              "      <th>acceleration</th>\n",
              "      <th>model_year</th>\n",
              "      <th>origin</th>\n",
              "      <th>fuel_type</th>\n",
              "      <th>drivetrain</th>\n",
              "      <th>num_doors</th>\n",
              "      <th>fuel_efficiency_mpg</th>\n",
              "    </tr>\n",
              "  </thead>\n",
              "  <tbody>\n",
              "    <tr>\n",
              "      <th>0</th>\n",
              "      <td>170</td>\n",
              "      <td>3.0</td>\n",
              "      <td>159.0</td>\n",
              "      <td>3413.433759</td>\n",
              "      <td>17.7</td>\n",
              "      <td>2003</td>\n",
              "      <td>Europe</td>\n",
              "      <td>Gasoline</td>\n",
              "      <td>All-wheel drive</td>\n",
              "      <td>0.0</td>\n",
              "      <td>13.231729</td>\n",
              "    </tr>\n",
              "    <tr>\n",
              "      <th>1</th>\n",
              "      <td>130</td>\n",
              "      <td>5.0</td>\n",
              "      <td>97.0</td>\n",
              "      <td>3149.664934</td>\n",
              "      <td>17.8</td>\n",
              "      <td>2007</td>\n",
              "      <td>USA</td>\n",
              "      <td>Gasoline</td>\n",
              "      <td>Front-wheel drive</td>\n",
              "      <td>0.0</td>\n",
              "      <td>13.688217</td>\n",
              "    </tr>\n",
              "    <tr>\n",
              "      <th>2</th>\n",
              "      <td>170</td>\n",
              "      <td>NaN</td>\n",
              "      <td>78.0</td>\n",
              "      <td>3079.038997</td>\n",
              "      <td>15.1</td>\n",
              "      <td>2018</td>\n",
              "      <td>Europe</td>\n",
              "      <td>Gasoline</td>\n",
              "      <td>Front-wheel drive</td>\n",
              "      <td>0.0</td>\n",
              "      <td>14.246341</td>\n",
              "    </tr>\n",
              "    <tr>\n",
              "      <th>3</th>\n",
              "      <td>220</td>\n",
              "      <td>4.0</td>\n",
              "      <td>NaN</td>\n",
              "      <td>2542.392402</td>\n",
              "      <td>20.2</td>\n",
              "      <td>2009</td>\n",
              "      <td>USA</td>\n",
              "      <td>Diesel</td>\n",
              "      <td>All-wheel drive</td>\n",
              "      <td>2.0</td>\n",
              "      <td>16.912736</td>\n",
              "    </tr>\n",
              "    <tr>\n",
              "      <th>4</th>\n",
              "      <td>210</td>\n",
              "      <td>1.0</td>\n",
              "      <td>140.0</td>\n",
              "      <td>3460.870990</td>\n",
              "      <td>14.4</td>\n",
              "      <td>2009</td>\n",
              "      <td>Europe</td>\n",
              "      <td>Gasoline</td>\n",
              "      <td>All-wheel drive</td>\n",
              "      <td>2.0</td>\n",
              "      <td>12.488369</td>\n",
              "    </tr>\n",
              "  </tbody>\n",
              "</table>\n",
              "</div>\n",
              "    <div class=\"colab-df-buttons\">\n",
              "\n",
              "  <div class=\"colab-df-container\">\n",
              "    <button class=\"colab-df-convert\" onclick=\"convertToInteractive('df-39b16858-28d0-4ec4-ac18-752d3d4c0837')\"\n",
              "            title=\"Convert this dataframe to an interactive table.\"\n",
              "            style=\"display:none;\">\n",
              "\n",
              "  <svg xmlns=\"http://www.w3.org/2000/svg\" height=\"24px\" viewBox=\"0 -960 960 960\">\n",
              "    <path d=\"M120-120v-720h720v720H120Zm60-500h600v-160H180v160Zm220 220h160v-160H400v160Zm0 220h160v-160H400v160ZM180-400h160v-160H180v160Zm440 0h160v-160H620v160ZM180-180h160v-160H180v160Zm440 0h160v-160H620v160Z\"/>\n",
              "  </svg>\n",
              "    </button>\n",
              "\n",
              "  <style>\n",
              "    .colab-df-container {\n",
              "      display:flex;\n",
              "      gap: 12px;\n",
              "    }\n",
              "\n",
              "    .colab-df-convert {\n",
              "      background-color: #E8F0FE;\n",
              "      border: none;\n",
              "      border-radius: 50%;\n",
              "      cursor: pointer;\n",
              "      display: none;\n",
              "      fill: #1967D2;\n",
              "      height: 32px;\n",
              "      padding: 0 0 0 0;\n",
              "      width: 32px;\n",
              "    }\n",
              "\n",
              "    .colab-df-convert:hover {\n",
              "      background-color: #E2EBFA;\n",
              "      box-shadow: 0px 1px 2px rgba(60, 64, 67, 0.3), 0px 1px 3px 1px rgba(60, 64, 67, 0.15);\n",
              "      fill: #174EA6;\n",
              "    }\n",
              "\n",
              "    .colab-df-buttons div {\n",
              "      margin-bottom: 4px;\n",
              "    }\n",
              "\n",
              "    [theme=dark] .colab-df-convert {\n",
              "      background-color: #3B4455;\n",
              "      fill: #D2E3FC;\n",
              "    }\n",
              "\n",
              "    [theme=dark] .colab-df-convert:hover {\n",
              "      background-color: #434B5C;\n",
              "      box-shadow: 0px 1px 3px 1px rgba(0, 0, 0, 0.15);\n",
              "      filter: drop-shadow(0px 1px 2px rgba(0, 0, 0, 0.3));\n",
              "      fill: #FFFFFF;\n",
              "    }\n",
              "  </style>\n",
              "\n",
              "    <script>\n",
              "      const buttonEl =\n",
              "        document.querySelector('#df-39b16858-28d0-4ec4-ac18-752d3d4c0837 button.colab-df-convert');\n",
              "      buttonEl.style.display =\n",
              "        google.colab.kernel.accessAllowed ? 'block' : 'none';\n",
              "\n",
              "      async function convertToInteractive(key) {\n",
              "        const element = document.querySelector('#df-39b16858-28d0-4ec4-ac18-752d3d4c0837');\n",
              "        const dataTable =\n",
              "          await google.colab.kernel.invokeFunction('convertToInteractive',\n",
              "                                                    [key], {});\n",
              "        if (!dataTable) return;\n",
              "\n",
              "        const docLinkHtml = 'Like what you see? Visit the ' +\n",
              "          '<a target=\"_blank\" href=https://colab.research.google.com/notebooks/data_table.ipynb>data table notebook</a>'\n",
              "          + ' to learn more about interactive tables.';\n",
              "        element.innerHTML = '';\n",
              "        dataTable['output_type'] = 'display_data';\n",
              "        await google.colab.output.renderOutput(dataTable, element);\n",
              "        const docLink = document.createElement('div');\n",
              "        docLink.innerHTML = docLinkHtml;\n",
              "        element.appendChild(docLink);\n",
              "      }\n",
              "    </script>\n",
              "  </div>\n",
              "\n",
              "\n",
              "    <div id=\"df-b129be38-0ac5-4760-beed-fc96456fffb0\">\n",
              "      <button class=\"colab-df-quickchart\" onclick=\"quickchart('df-b129be38-0ac5-4760-beed-fc96456fffb0')\"\n",
              "                title=\"Suggest charts\"\n",
              "                style=\"display:none;\">\n",
              "\n",
              "<svg xmlns=\"http://www.w3.org/2000/svg\" height=\"24px\"viewBox=\"0 0 24 24\"\n",
              "     width=\"24px\">\n",
              "    <g>\n",
              "        <path d=\"M19 3H5c-1.1 0-2 .9-2 2v14c0 1.1.9 2 2 2h14c1.1 0 2-.9 2-2V5c0-1.1-.9-2-2-2zM9 17H7v-7h2v7zm4 0h-2V7h2v10zm4 0h-2v-4h2v4z\"/>\n",
              "    </g>\n",
              "</svg>\n",
              "      </button>\n",
              "\n",
              "<style>\n",
              "  .colab-df-quickchart {\n",
              "      --bg-color: #E8F0FE;\n",
              "      --fill-color: #1967D2;\n",
              "      --hover-bg-color: #E2EBFA;\n",
              "      --hover-fill-color: #174EA6;\n",
              "      --disabled-fill-color: #AAA;\n",
              "      --disabled-bg-color: #DDD;\n",
              "  }\n",
              "\n",
              "  [theme=dark] .colab-df-quickchart {\n",
              "      --bg-color: #3B4455;\n",
              "      --fill-color: #D2E3FC;\n",
              "      --hover-bg-color: #434B5C;\n",
              "      --hover-fill-color: #FFFFFF;\n",
              "      --disabled-bg-color: #3B4455;\n",
              "      --disabled-fill-color: #666;\n",
              "  }\n",
              "\n",
              "  .colab-df-quickchart {\n",
              "    background-color: var(--bg-color);\n",
              "    border: none;\n",
              "    border-radius: 50%;\n",
              "    cursor: pointer;\n",
              "    display: none;\n",
              "    fill: var(--fill-color);\n",
              "    height: 32px;\n",
              "    padding: 0;\n",
              "    width: 32px;\n",
              "  }\n",
              "\n",
              "  .colab-df-quickchart:hover {\n",
              "    background-color: var(--hover-bg-color);\n",
              "    box-shadow: 0 1px 2px rgba(60, 64, 67, 0.3), 0 1px 3px 1px rgba(60, 64, 67, 0.15);\n",
              "    fill: var(--button-hover-fill-color);\n",
              "  }\n",
              "\n",
              "  .colab-df-quickchart-complete:disabled,\n",
              "  .colab-df-quickchart-complete:disabled:hover {\n",
              "    background-color: var(--disabled-bg-color);\n",
              "    fill: var(--disabled-fill-color);\n",
              "    box-shadow: none;\n",
              "  }\n",
              "\n",
              "  .colab-df-spinner {\n",
              "    border: 2px solid var(--fill-color);\n",
              "    border-color: transparent;\n",
              "    border-bottom-color: var(--fill-color);\n",
              "    animation:\n",
              "      spin 1s steps(1) infinite;\n",
              "  }\n",
              "\n",
              "  @keyframes spin {\n",
              "    0% {\n",
              "      border-color: transparent;\n",
              "      border-bottom-color: var(--fill-color);\n",
              "      border-left-color: var(--fill-color);\n",
              "    }\n",
              "    20% {\n",
              "      border-color: transparent;\n",
              "      border-left-color: var(--fill-color);\n",
              "      border-top-color: var(--fill-color);\n",
              "    }\n",
              "    30% {\n",
              "      border-color: transparent;\n",
              "      border-left-color: var(--fill-color);\n",
              "      border-top-color: var(--fill-color);\n",
              "      border-right-color: var(--fill-color);\n",
              "    }\n",
              "    40% {\n",
              "      border-color: transparent;\n",
              "      border-right-color: var(--fill-color);\n",
              "      border-top-color: var(--fill-color);\n",
              "    }\n",
              "    60% {\n",
              "      border-color: transparent;\n",
              "      border-right-color: var(--fill-color);\n",
              "    }\n",
              "    80% {\n",
              "      border-color: transparent;\n",
              "      border-right-color: var(--fill-color);\n",
              "      border-bottom-color: var(--fill-color);\n",
              "    }\n",
              "    90% {\n",
              "      border-color: transparent;\n",
              "      border-bottom-color: var(--fill-color);\n",
              "    }\n",
              "  }\n",
              "</style>\n",
              "\n",
              "      <script>\n",
              "        async function quickchart(key) {\n",
              "          const quickchartButtonEl =\n",
              "            document.querySelector('#' + key + ' button');\n",
              "          quickchartButtonEl.disabled = true;  // To prevent multiple clicks.\n",
              "          quickchartButtonEl.classList.add('colab-df-spinner');\n",
              "          try {\n",
              "            const charts = await google.colab.kernel.invokeFunction(\n",
              "                'suggestCharts', [key], {});\n",
              "          } catch (error) {\n",
              "            console.error('Error during call to suggestCharts:', error);\n",
              "          }\n",
              "          quickchartButtonEl.classList.remove('colab-df-spinner');\n",
              "          quickchartButtonEl.classList.add('colab-df-quickchart-complete');\n",
              "        }\n",
              "        (() => {\n",
              "          let quickchartButtonEl =\n",
              "            document.querySelector('#df-b129be38-0ac5-4760-beed-fc96456fffb0 button');\n",
              "          quickchartButtonEl.style.display =\n",
              "            google.colab.kernel.accessAllowed ? 'block' : 'none';\n",
              "        })();\n",
              "      </script>\n",
              "    </div>\n",
              "    </div>\n",
              "  </div>\n"
            ],
            "application/vnd.google.colaboratory.intrinsic+json": {
              "type": "dataframe",
              "variable_name": "df",
              "summary": "{\n  \"name\": \"df\",\n  \"rows\": 9704,\n  \"fields\": [\n    {\n      \"column\": \"engine_displacement\",\n      \"properties\": {\n        \"dtype\": \"number\",\n        \"std\": 49,\n        \"min\": 10,\n        \"max\": 380,\n        \"num_unique_values\": 36,\n        \"samples\": [\n          30,\n          260,\n          90\n        ],\n        \"semantic_type\": \"\",\n        \"description\": \"\"\n      }\n    },\n    {\n      \"column\": \"num_cylinders\",\n      \"properties\": {\n        \"dtype\": \"number\",\n        \"std\": 1.9993225843926064,\n        \"min\": 0.0,\n        \"max\": 13.0,\n        \"num_unique_values\": 14,\n        \"samples\": [\n          9.0,\n          10.0,\n          3.0\n        ],\n        \"semantic_type\": \"\",\n        \"description\": \"\"\n      }\n    },\n    {\n      \"column\": \"horsepower\",\n      \"properties\": {\n        \"dtype\": \"number\",\n        \"std\": 29.879555200339446,\n        \"min\": 37.0,\n        \"max\": 271.0,\n        \"num_unique_values\": 192,\n        \"samples\": [\n          128.0,\n          82.0,\n          167.0\n        ],\n        \"semantic_type\": \"\",\n        \"description\": \"\"\n      }\n    },\n    {\n      \"column\": \"vehicle_weight\",\n      \"properties\": {\n        \"dtype\": \"number\",\n        \"std\": 497.8948600311838,\n        \"min\": 952.6817606436496,\n        \"max\": 4739.077089392099,\n        \"num_unique_values\": 9704,\n        \"samples\": [\n          2535.8875912388694,\n          2741.1704843893167,\n          2471.8802372627765\n        ],\n        \"semantic_type\": \"\",\n        \"description\": \"\"\n      }\n    },\n    {\n      \"column\": \"acceleration\",\n      \"properties\": {\n        \"dtype\": \"number\",\n        \"std\": 2.510339293937879,\n        \"min\": 6.0,\n        \"max\": 24.3,\n        \"num_unique_values\": 162,\n        \"samples\": [\n          7.3,\n          20.3,\n          19.8\n        ],\n        \"semantic_type\": \"\",\n        \"description\": \"\"\n      }\n    },\n    {\n      \"column\": \"model_year\",\n      \"properties\": {\n        \"dtype\": \"number\",\n        \"std\": 6,\n        \"min\": 2000,\n        \"max\": 2023,\n        \"num_unique_values\": 24,\n        \"samples\": [\n          2005,\n          2002,\n          2003\n        ],\n        \"semantic_type\": \"\",\n        \"description\": \"\"\n      }\n    },\n    {\n      \"column\": \"origin\",\n      \"properties\": {\n        \"dtype\": \"category\",\n        \"num_unique_values\": 3,\n        \"samples\": [\n          \"Europe\",\n          \"USA\",\n          \"Asia\"\n        ],\n        \"semantic_type\": \"\",\n        \"description\": \"\"\n      }\n    },\n    {\n      \"column\": \"fuel_type\",\n      \"properties\": {\n        \"dtype\": \"category\",\n        \"num_unique_values\": 2,\n        \"samples\": [\n          \"Diesel\",\n          \"Gasoline\"\n        ],\n        \"semantic_type\": \"\",\n        \"description\": \"\"\n      }\n    },\n    {\n      \"column\": \"drivetrain\",\n      \"properties\": {\n        \"dtype\": \"category\",\n        \"num_unique_values\": 2,\n        \"samples\": [\n          \"Front-wheel drive\",\n          \"All-wheel drive\"\n        ],\n        \"semantic_type\": \"\",\n        \"description\": \"\"\n      }\n    },\n    {\n      \"column\": \"num_doors\",\n      \"properties\": {\n        \"dtype\": \"number\",\n        \"std\": 1.048162111427726,\n        \"min\": -4.0,\n        \"max\": 4.0,\n        \"num_unique_values\": 9,\n        \"samples\": [\n          -4.0,\n          2.0\n        ],\n        \"semantic_type\": \"\",\n        \"description\": \"\"\n      }\n    },\n    {\n      \"column\": \"fuel_efficiency_mpg\",\n      \"properties\": {\n        \"dtype\": \"number\",\n        \"std\": 2.5564677028974288,\n        \"min\": 6.200970533392815,\n        \"max\": 25.96722204888372,\n        \"num_unique_values\": 9704,\n        \"samples\": [\n          16.642943419221385,\n          16.298377150953442\n        ],\n        \"semantic_type\": \"\",\n        \"description\": \"\"\n      }\n    }\n  ]\n}"
            }
          },
          "metadata": {},
          "execution_count": 5
        }
      ]
    },
    {
      "cell_type": "markdown",
      "source": [
        "# Q1. Pandas version"
      ],
      "metadata": {
        "id": "UPouWABhtVkV"
      }
    },
    {
      "cell_type": "code",
      "source": [
        "pd.__version__"
      ],
      "metadata": {
        "colab": {
          "base_uri": "https://localhost:8080/",
          "height": 35
        },
        "id": "EHZ5Nsj3tXKi",
        "outputId": "0884c28c-60b0-443d-fb9c-dd3a5e923c9d"
      },
      "execution_count": 8,
      "outputs": [
        {
          "output_type": "execute_result",
          "data": {
            "text/plain": [
              "'2.2.2'"
            ],
            "application/vnd.google.colaboratory.intrinsic+json": {
              "type": "string"
            }
          },
          "metadata": {},
          "execution_count": 8
        }
      ]
    },
    {
      "cell_type": "markdown",
      "source": [
        "# Q2. Records count"
      ],
      "metadata": {
        "id": "JYG9ENqyuHWa"
      }
    },
    {
      "cell_type": "code",
      "source": [
        "rows, cols = df.shape\n",
        "print(f\"The dataset contains {rows} records and {cols} features.\")"
      ],
      "metadata": {
        "colab": {
          "base_uri": "https://localhost:8080/"
        },
        "id": "L3zTk9dzuJ06",
        "outputId": "b3a890ee-a380-49ff-ce58-90ca2322db6d"
      },
      "execution_count": 6,
      "outputs": [
        {
          "output_type": "stream",
          "name": "stdout",
          "text": [
            "The dataset contains 9704 records and 11 features.\n"
          ]
        }
      ]
    },
    {
      "cell_type": "markdown",
      "source": [
        "# Q3. Fuel types"
      ],
      "metadata": {
        "id": "LsDEaLDdumUE"
      }
    },
    {
      "cell_type": "code",
      "source": [
        "fuel_types = df['fuel_type'].unique()\n",
        "print(f\"There are {len(fuel_types)} fuel types in the dataset: {', '.join(fuel_types)}\")"
      ],
      "metadata": {
        "colab": {
          "base_uri": "https://localhost:8080/"
        },
        "id": "6UCi0veIu8g-",
        "outputId": "c1e42f59-5a66-4149-f56d-ceec7935c095"
      },
      "execution_count": 7,
      "outputs": [
        {
          "output_type": "stream",
          "name": "stdout",
          "text": [
            "There are 2 fuel types in the dataset: Gasoline, Diesel\n"
          ]
        }
      ]
    },
    {
      "cell_type": "markdown",
      "source": [
        "# Q4. Missing values"
      ],
      "metadata": {
        "id": "S3AmaUsMvCxz"
      }
    },
    {
      "cell_type": "code",
      "source": [
        "nan_counts = df.isna().sum()\n",
        "nan_counts[nan_counts > 0]\n",
        "print(f\"The dataset contains {len(nan_counts[nan_counts > 0])} missing values in total.\")"
      ],
      "metadata": {
        "colab": {
          "base_uri": "https://localhost:8080/"
        },
        "id": "rYmxSuduvFgm",
        "outputId": "10e7d39a-fbaa-4726-e36e-b2662fc2aa02"
      },
      "execution_count": 8,
      "outputs": [
        {
          "output_type": "stream",
          "name": "stdout",
          "text": [
            "The dataset contains 4 missing values in total.\n"
          ]
        }
      ]
    },
    {
      "cell_type": "markdown",
      "source": [
        "# Q5. Max fuel efficiency"
      ],
      "metadata": {
        "id": "99qj4kAlvMNn"
      }
    },
    {
      "cell_type": "code",
      "source": [
        "df_asia = df[df['origin'] == 'Asia']\n",
        "max_eff = df_asia['fuel_efficiency_mpg'].max()\n",
        "print(f\"The maximum fuel efficiency for cars from Asia is {max_eff:.4f} mpg.\")"
      ],
      "metadata": {
        "colab": {
          "base_uri": "https://localhost:8080/"
        },
        "id": "TNrS50CavNu3",
        "outputId": "937bbc2f-9e69-4809-850a-62eb754b4913"
      },
      "execution_count": 19,
      "outputs": [
        {
          "output_type": "stream",
          "name": "stdout",
          "text": [
            "The maximum fuel efficiency for cars from Asia is 23.7591 mpg.\n"
          ]
        }
      ]
    },
    {
      "cell_type": "markdown",
      "source": [
        "# Q6. Median value of horsepower"
      ],
      "metadata": {
        "id": "EibzQAwivOq4"
      }
    },
    {
      "cell_type": "markdown",
      "source": [
        "## Calculate the initial median of the horsepower column"
      ],
      "metadata": {
        "id": "LRbBCyZ4yFMD"
      }
    },
    {
      "cell_type": "code",
      "source": [
        "median_before = df['horsepower'].median()\n",
        "print(\"Median before filling:\", median_before)"
      ],
      "metadata": {
        "colab": {
          "base_uri": "https://localhost:8080/"
        },
        "id": "unnfMGNsvOjb",
        "outputId": "8944f121-8654-4b63-de3a-119e211c6ffc"
      },
      "execution_count": 10,
      "outputs": [
        {
          "output_type": "stream",
          "name": "stdout",
          "text": [
            "Median before filling: 149.0\n"
          ]
        }
      ]
    },
    {
      "cell_type": "markdown",
      "source": [
        "## Find the most frequent value (mode) of the horsepower column"
      ],
      "metadata": {
        "id": "GJzurFVLyLX4"
      }
    },
    {
      "cell_type": "code",
      "source": [
        "most_freq = df['horsepower'].mode()[0]\n",
        "print(\"Most frequent horsepower:\", most_freq)"
      ],
      "metadata": {
        "colab": {
          "base_uri": "https://localhost:8080/"
        },
        "id": "wWPgTNLFyTXF",
        "outputId": "3ef0f9b9-5ab0-401e-860e-d73c07970efe"
      },
      "execution_count": 11,
      "outputs": [
        {
          "output_type": "stream",
          "name": "stdout",
          "text": [
            "Most frequent horsepower: 152.0\n"
          ]
        }
      ]
    },
    {
      "cell_type": "markdown",
      "source": [
        "## Fill missing values in the horsepower column with the most frequent value"
      ],
      "metadata": {
        "id": "J5549tbEySfg"
      }
    },
    {
      "cell_type": "code",
      "source": [
        "df['horsepower'] = df['horsepower'].fillna(most_freq)"
      ],
      "metadata": {
        "id": "q8gmADpcyZO7"
      },
      "execution_count": 13,
      "outputs": []
    },
    {
      "cell_type": "markdown",
      "source": [
        "## Calculate the median of the horsepower column again after filling missing values"
      ],
      "metadata": {
        "id": "Ol6L9IWUyO4Y"
      }
    },
    {
      "cell_type": "code",
      "source": [
        "median_after = df['horsepower'].median()\n",
        "print(\"Median after filling:\", median_after)"
      ],
      "metadata": {
        "colab": {
          "base_uri": "https://localhost:8080/"
        },
        "id": "P14AATqZyqHQ",
        "outputId": "50aedd92-2385-4c95-897c-bace9728b809"
      },
      "execution_count": 14,
      "outputs": [
        {
          "output_type": "stream",
          "name": "stdout",
          "text": [
            "Median after filling: 152.0\n"
          ]
        }
      ]
    },
    {
      "cell_type": "code",
      "source": [],
      "metadata": {
        "id": "aYq2fN0RLT6Z"
      },
      "execution_count": null,
      "outputs": []
    },
    {
      "cell_type": "code",
      "execution_count": 20,
      "metadata": {
        "id": "eca570f4",
        "colab": {
          "base_uri": "https://localhost:8080/"
        },
        "outputId": "bf6da2c3-7892-4827-c487-6f11a7546fe2"
      },
      "outputs": [
        {
          "output_type": "stream",
          "name": "stdout",
          "text": [
            "Q6 - Median horsepower BEFORE fill: 149.0\n",
            "Q6 - Median horsepower AFTER  fill: 152.0\n",
            "Q6 - Answer: Yes, it increased\n"
          ]
        }
      ],
      "source": [
        "if median_after > median_before:\n",
        "    answer_q6 = \"Yes, it increased\"\n",
        "elif median_after < median_before:\n",
        "    answer_q6 = \"Yes, it decreased\"\n",
        "else:\n",
        "    answer_q6 = \"No\"\n",
        "\n",
        "print(\"Q6 - Median horsepower BEFORE fill:\", median_before)\n",
        "print(\"Q6 - Median horsepower AFTER  fill:\", median_after)\n",
        "print(\"Q6 - Answer:\", answer_q6)"
      ]
    },
    {
      "cell_type": "markdown",
      "source": [
        "# Q7. Sum of weights"
      ],
      "metadata": {
        "id": "PvpJ7kEIvV9z"
      }
    },
    {
      "cell_type": "code",
      "source": [
        "col_origin = \"origin\"\n",
        "col_weight = \"vehicle_weight\"\n",
        "col_year   = \"model_year\"\n",
        "\n",
        "# Normalize origin values\n",
        "if df[col_origin].dtype == object:\n",
        "    df[col_origin] = df[col_origin].str.strip().str.title()\n",
        "\n",
        "# Ensure numeric types (just in case)\n",
        "df[col_weight] = pd.to_numeric(df[col_weight], errors=\"coerce\")\n",
        "df[col_year]   = pd.to_numeric(df[col_year], errors=\"coerce\")\n",
        "\n",
        "# Select Asia cars, required columns, first 7 rows\n",
        "subset = df.loc[df[col_origin].eq(\"Asia\"), [col_weight, col_year]].dropna().head(7).copy()\n",
        "\n",
        "# Safety check: must have 7 rows\n",
        "if len(subset) < 7:\n",
        "    raise ValueError(f\"Expected at least 7 Asia rows, got {len(subset)}.\")\n",
        "\n",
        "# Build X\n",
        "X = subset.to_numpy()\n",
        "\n",
        "# Compute X^T X and invert (fallback to pseudo-inverse if singular)\n",
        "XTX = X.T @ X\n",
        "try:\n",
        "    XTX_inv = np.linalg.inv(XTX)\n",
        "except np.linalg.LinAlgError:\n",
        "    XTX_inv = np.linalg.pinv(XTX)\n",
        "\n",
        "# Given y\n",
        "y = np.array([1100, 1300, 800, 900, 1000, 1100, 1200], dtype=float)\n",
        "\n",
        "# Compute w and the sum of its elements\n",
        "w = XTX_inv @ X.T @ y\n",
        "sum_w = float(w.sum())\n",
        "\n",
        "print(\"Subset used (first 7 Asia rows):\")\n",
        "print(subset.to_string(index=False))\n",
        "print(\"\\nw =\", w)\n",
        "print(\"Sum of weights =\", sum_w)\n",
        "# Expected (multiple-choice): about 0.51"
      ],
      "metadata": {
        "colab": {
          "base_uri": "https://localhost:8080/"
        },
        "id": "Zj5hJGaNvdUs",
        "outputId": "07724e52-b29d-46f1-888f-36a7c1dbf5c8"
      },
      "execution_count": 21,
      "outputs": [
        {
          "output_type": "stream",
          "name": "stdout",
          "text": [
            "Subset used (first 7 Asia rows):\n",
            " vehicle_weight  model_year\n",
            "    2714.219310        2016\n",
            "    2783.868974        2010\n",
            "    3582.687368        2007\n",
            "    2231.808142        2011\n",
            "    2659.431451        2016\n",
            "    2844.227534        2014\n",
            "    3761.994038        2019\n",
            "\n",
            "w = [0.01386421 0.5049067 ]\n",
            "Sum of weights = 0.5187709081074016\n"
          ]
        }
      ]
    }
  ]
}