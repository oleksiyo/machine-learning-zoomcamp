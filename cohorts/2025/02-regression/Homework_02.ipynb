{
  "nbformat": 4,
  "nbformat_minor": 0,
  "metadata": {
    "colab": {
      "provenance": [],
      "collapsed_sections": [
        "Fn52ExDrvqfB"
      ],
      "authorship_tag": "ABX9TyNS40HE2ETZDA4WH5UDKZup",
      "include_colab_link": true
    },
    "kernelspec": {
      "name": "python3",
      "display_name": "Python 3"
    },
    "language_info": {
      "name": "python"
    }
  },
  "cells": [
    {
      "cell_type": "markdown",
      "metadata": {
        "id": "view-in-github",
        "colab_type": "text"
      },
      "source": [
        "<a href=\"https://colab.research.google.com/github/oleksiyo/machine-learning-zoomcamp/blob/master/cohorts/2025/02-regression/Homework_02.ipynb\" target=\"_parent\"><img src=\"https://colab.research.google.com/assets/colab-badge.svg\" alt=\"Open In Colab\"/></a>"
      ]
    },
    {
      "cell_type": "markdown",
      "source": [
        "# 2. Machine Learning for Regression"
      ],
      "metadata": {
        "id": "QVku-4k5JbLc"
      }
    },
    {
      "cell_type": "markdown",
      "source": [
        "The goal of this homework is to create a regression model for predicting the car fuel efficiency (column '***fuel_efficiency_mpg***').\n",
        "\n"
      ],
      "metadata": {
        "id": "u-1IVb48wAOS"
      }
    },
    {
      "cell_type": "markdown",
      "source": [
        "## Data preparation"
      ],
      "metadata": {
        "id": "28VdGhr1Jkvo"
      }
    },
    {
      "cell_type": "code",
      "source": [
        "import pandas as pd\n",
        "import numpy as np\n",
        "import matplotlib.pyplot as plt\n",
        "import seaborn as sns"
      ],
      "metadata": {
        "id": "l2vxYiEcJJGv"
      },
      "execution_count": 114,
      "outputs": []
    },
    {
      "cell_type": "code",
      "source": [
        "!wget https://raw.githubusercontent.com/alexeygrigorev/datasets/master/car_fuel_efficiency.csv"
      ],
      "metadata": {
        "colab": {
          "base_uri": "https://localhost:8080/"
        },
        "id": "Kq4z4h_QJmET",
        "outputId": "906bf45b-13db-45f5-9d1b-6675d61c0c35"
      },
      "execution_count": 115,
      "outputs": [
        {
          "output_type": "stream",
          "name": "stdout",
          "text": [
            "--2025-10-08 16:35:26--  https://raw.githubusercontent.com/alexeygrigorev/datasets/master/car_fuel_efficiency.csv\n",
            "Resolving raw.githubusercontent.com (raw.githubusercontent.com)... 185.199.108.133, 185.199.109.133, 185.199.110.133, ...\n",
            "Connecting to raw.githubusercontent.com (raw.githubusercontent.com)|185.199.108.133|:443... connected.\n",
            "HTTP request sent, awaiting response... 200 OK\n",
            "Length: 874188 (854K) [text/plain]\n",
            "Saving to: ‘car_fuel_efficiency.csv.4’\n",
            "\n",
            "\r          car_fuel_   0%[                    ]       0  --.-KB/s               \rcar_fuel_efficiency 100%[===================>] 853.70K  --.-KB/s    in 0.05s   \n",
            "\n",
            "2025-10-08 16:35:26 (17.7 MB/s) - ‘car_fuel_efficiency.csv.4’ saved [874188/874188]\n",
            "\n"
          ]
        }
      ]
    },
    {
      "cell_type": "code",
      "source": [
        "df_full = pd.read_csv('car_fuel_efficiency.csv')"
      ],
      "metadata": {
        "id": "Svic5kYiJ28z"
      },
      "execution_count": 116,
      "outputs": []
    },
    {
      "cell_type": "code",
      "source": [
        "df_full.head()"
      ],
      "metadata": {
        "colab": {
          "base_uri": "https://localhost:8080/",
          "height": 313
        },
        "id": "S03-V22oJ7CG",
        "outputId": "4e7b1174-be1a-4084-8c37-19ceed4c9579"
      },
      "execution_count": 117,
      "outputs": [
        {
          "output_type": "execute_result",
          "data": {
            "text/plain": [
              "   engine_displacement  num_cylinders  horsepower  vehicle_weight  \\\n",
              "0                  170            3.0       159.0     3413.433759   \n",
              "1                  130            5.0        97.0     3149.664934   \n",
              "2                  170            NaN        78.0     3079.038997   \n",
              "3                  220            4.0         NaN     2542.392402   \n",
              "4                  210            1.0       140.0     3460.870990   \n",
              "\n",
              "   acceleration  model_year  origin fuel_type         drivetrain  num_doors  \\\n",
              "0          17.7        2003  Europe  Gasoline    All-wheel drive        0.0   \n",
              "1          17.8        2007     USA  Gasoline  Front-wheel drive        0.0   \n",
              "2          15.1        2018  Europe  Gasoline  Front-wheel drive        0.0   \n",
              "3          20.2        2009     USA    Diesel    All-wheel drive        2.0   \n",
              "4          14.4        2009  Europe  Gasoline    All-wheel drive        2.0   \n",
              "\n",
              "   fuel_efficiency_mpg  \n",
              "0            13.231729  \n",
              "1            13.688217  \n",
              "2            14.246341  \n",
              "3            16.912736  \n",
              "4            12.488369  "
            ],
            "text/html": [
              "\n",
              "  <div id=\"df-43c45a64-b6f1-43c7-bbd6-ebd6b0022cf5\" class=\"colab-df-container\">\n",
              "    <div>\n",
              "<style scoped>\n",
              "    .dataframe tbody tr th:only-of-type {\n",
              "        vertical-align: middle;\n",
              "    }\n",
              "\n",
              "    .dataframe tbody tr th {\n",
              "        vertical-align: top;\n",
              "    }\n",
              "\n",
              "    .dataframe thead th {\n",
              "        text-align: right;\n",
              "    }\n",
              "</style>\n",
              "<table border=\"1\" class=\"dataframe\">\n",
              "  <thead>\n",
              "    <tr style=\"text-align: right;\">\n",
              "      <th></th>\n",
              "      <th>engine_displacement</th>\n",
              "      <th>num_cylinders</th>\n",
              "      <th>horsepower</th>\n",
              "      <th>vehicle_weight</th>\n",
              "      <th>acceleration</th>\n",
              "      <th>model_year</th>\n",
              "      <th>origin</th>\n",
              "      <th>fuel_type</th>\n",
              "      <th>drivetrain</th>\n",
              "      <th>num_doors</th>\n",
              "      <th>fuel_efficiency_mpg</th>\n",
              "    </tr>\n",
              "  </thead>\n",
              "  <tbody>\n",
              "    <tr>\n",
              "      <th>0</th>\n",
              "      <td>170</td>\n",
              "      <td>3.0</td>\n",
              "      <td>159.0</td>\n",
              "      <td>3413.433759</td>\n",
              "      <td>17.7</td>\n",
              "      <td>2003</td>\n",
              "      <td>Europe</td>\n",
              "      <td>Gasoline</td>\n",
              "      <td>All-wheel drive</td>\n",
              "      <td>0.0</td>\n",
              "      <td>13.231729</td>\n",
              "    </tr>\n",
              "    <tr>\n",
              "      <th>1</th>\n",
              "      <td>130</td>\n",
              "      <td>5.0</td>\n",
              "      <td>97.0</td>\n",
              "      <td>3149.664934</td>\n",
              "      <td>17.8</td>\n",
              "      <td>2007</td>\n",
              "      <td>USA</td>\n",
              "      <td>Gasoline</td>\n",
              "      <td>Front-wheel drive</td>\n",
              "      <td>0.0</td>\n",
              "      <td>13.688217</td>\n",
              "    </tr>\n",
              "    <tr>\n",
              "      <th>2</th>\n",
              "      <td>170</td>\n",
              "      <td>NaN</td>\n",
              "      <td>78.0</td>\n",
              "      <td>3079.038997</td>\n",
              "      <td>15.1</td>\n",
              "      <td>2018</td>\n",
              "      <td>Europe</td>\n",
              "      <td>Gasoline</td>\n",
              "      <td>Front-wheel drive</td>\n",
              "      <td>0.0</td>\n",
              "      <td>14.246341</td>\n",
              "    </tr>\n",
              "    <tr>\n",
              "      <th>3</th>\n",
              "      <td>220</td>\n",
              "      <td>4.0</td>\n",
              "      <td>NaN</td>\n",
              "      <td>2542.392402</td>\n",
              "      <td>20.2</td>\n",
              "      <td>2009</td>\n",
              "      <td>USA</td>\n",
              "      <td>Diesel</td>\n",
              "      <td>All-wheel drive</td>\n",
              "      <td>2.0</td>\n",
              "      <td>16.912736</td>\n",
              "    </tr>\n",
              "    <tr>\n",
              "      <th>4</th>\n",
              "      <td>210</td>\n",
              "      <td>1.0</td>\n",
              "      <td>140.0</td>\n",
              "      <td>3460.870990</td>\n",
              "      <td>14.4</td>\n",
              "      <td>2009</td>\n",
              "      <td>Europe</td>\n",
              "      <td>Gasoline</td>\n",
              "      <td>All-wheel drive</td>\n",
              "      <td>2.0</td>\n",
              "      <td>12.488369</td>\n",
              "    </tr>\n",
              "  </tbody>\n",
              "</table>\n",
              "</div>\n",
              "    <div class=\"colab-df-buttons\">\n",
              "\n",
              "  <div class=\"colab-df-container\">\n",
              "    <button class=\"colab-df-convert\" onclick=\"convertToInteractive('df-43c45a64-b6f1-43c7-bbd6-ebd6b0022cf5')\"\n",
              "            title=\"Convert this dataframe to an interactive table.\"\n",
              "            style=\"display:none;\">\n",
              "\n",
              "  <svg xmlns=\"http://www.w3.org/2000/svg\" height=\"24px\" viewBox=\"0 -960 960 960\">\n",
              "    <path d=\"M120-120v-720h720v720H120Zm60-500h600v-160H180v160Zm220 220h160v-160H400v160Zm0 220h160v-160H400v160ZM180-400h160v-160H180v160Zm440 0h160v-160H620v160ZM180-180h160v-160H180v160Zm440 0h160v-160H620v160Z\"/>\n",
              "  </svg>\n",
              "    </button>\n",
              "\n",
              "  <style>\n",
              "    .colab-df-container {\n",
              "      display:flex;\n",
              "      gap: 12px;\n",
              "    }\n",
              "\n",
              "    .colab-df-convert {\n",
              "      background-color: #E8F0FE;\n",
              "      border: none;\n",
              "      border-radius: 50%;\n",
              "      cursor: pointer;\n",
              "      display: none;\n",
              "      fill: #1967D2;\n",
              "      height: 32px;\n",
              "      padding: 0 0 0 0;\n",
              "      width: 32px;\n",
              "    }\n",
              "\n",
              "    .colab-df-convert:hover {\n",
              "      background-color: #E2EBFA;\n",
              "      box-shadow: 0px 1px 2px rgba(60, 64, 67, 0.3), 0px 1px 3px 1px rgba(60, 64, 67, 0.15);\n",
              "      fill: #174EA6;\n",
              "    }\n",
              "\n",
              "    .colab-df-buttons div {\n",
              "      margin-bottom: 4px;\n",
              "    }\n",
              "\n",
              "    [theme=dark] .colab-df-convert {\n",
              "      background-color: #3B4455;\n",
              "      fill: #D2E3FC;\n",
              "    }\n",
              "\n",
              "    [theme=dark] .colab-df-convert:hover {\n",
              "      background-color: #434B5C;\n",
              "      box-shadow: 0px 1px 3px 1px rgba(0, 0, 0, 0.15);\n",
              "      filter: drop-shadow(0px 1px 2px rgba(0, 0, 0, 0.3));\n",
              "      fill: #FFFFFF;\n",
              "    }\n",
              "  </style>\n",
              "\n",
              "    <script>\n",
              "      const buttonEl =\n",
              "        document.querySelector('#df-43c45a64-b6f1-43c7-bbd6-ebd6b0022cf5 button.colab-df-convert');\n",
              "      buttonEl.style.display =\n",
              "        google.colab.kernel.accessAllowed ? 'block' : 'none';\n",
              "\n",
              "      async function convertToInteractive(key) {\n",
              "        const element = document.querySelector('#df-43c45a64-b6f1-43c7-bbd6-ebd6b0022cf5');\n",
              "        const dataTable =\n",
              "          await google.colab.kernel.invokeFunction('convertToInteractive',\n",
              "                                                    [key], {});\n",
              "        if (!dataTable) return;\n",
              "\n",
              "        const docLinkHtml = 'Like what you see? Visit the ' +\n",
              "          '<a target=\"_blank\" href=https://colab.research.google.com/notebooks/data_table.ipynb>data table notebook</a>'\n",
              "          + ' to learn more about interactive tables.';\n",
              "        element.innerHTML = '';\n",
              "        dataTable['output_type'] = 'display_data';\n",
              "        await google.colab.output.renderOutput(dataTable, element);\n",
              "        const docLink = document.createElement('div');\n",
              "        docLink.innerHTML = docLinkHtml;\n",
              "        element.appendChild(docLink);\n",
              "      }\n",
              "    </script>\n",
              "  </div>\n",
              "\n",
              "\n",
              "    <div id=\"df-aff929ba-99d0-47be-902b-8d63392baa95\">\n",
              "      <button class=\"colab-df-quickchart\" onclick=\"quickchart('df-aff929ba-99d0-47be-902b-8d63392baa95')\"\n",
              "                title=\"Suggest charts\"\n",
              "                style=\"display:none;\">\n",
              "\n",
              "<svg xmlns=\"http://www.w3.org/2000/svg\" height=\"24px\"viewBox=\"0 0 24 24\"\n",
              "     width=\"24px\">\n",
              "    <g>\n",
              "        <path d=\"M19 3H5c-1.1 0-2 .9-2 2v14c0 1.1.9 2 2 2h14c1.1 0 2-.9 2-2V5c0-1.1-.9-2-2-2zM9 17H7v-7h2v7zm4 0h-2V7h2v10zm4 0h-2v-4h2v4z\"/>\n",
              "    </g>\n",
              "</svg>\n",
              "      </button>\n",
              "\n",
              "<style>\n",
              "  .colab-df-quickchart {\n",
              "      --bg-color: #E8F0FE;\n",
              "      --fill-color: #1967D2;\n",
              "      --hover-bg-color: #E2EBFA;\n",
              "      --hover-fill-color: #174EA6;\n",
              "      --disabled-fill-color: #AAA;\n",
              "      --disabled-bg-color: #DDD;\n",
              "  }\n",
              "\n",
              "  [theme=dark] .colab-df-quickchart {\n",
              "      --bg-color: #3B4455;\n",
              "      --fill-color: #D2E3FC;\n",
              "      --hover-bg-color: #434B5C;\n",
              "      --hover-fill-color: #FFFFFF;\n",
              "      --disabled-bg-color: #3B4455;\n",
              "      --disabled-fill-color: #666;\n",
              "  }\n",
              "\n",
              "  .colab-df-quickchart {\n",
              "    background-color: var(--bg-color);\n",
              "    border: none;\n",
              "    border-radius: 50%;\n",
              "    cursor: pointer;\n",
              "    display: none;\n",
              "    fill: var(--fill-color);\n",
              "    height: 32px;\n",
              "    padding: 0;\n",
              "    width: 32px;\n",
              "  }\n",
              "\n",
              "  .colab-df-quickchart:hover {\n",
              "    background-color: var(--hover-bg-color);\n",
              "    box-shadow: 0 1px 2px rgba(60, 64, 67, 0.3), 0 1px 3px 1px rgba(60, 64, 67, 0.15);\n",
              "    fill: var(--button-hover-fill-color);\n",
              "  }\n",
              "\n",
              "  .colab-df-quickchart-complete:disabled,\n",
              "  .colab-df-quickchart-complete:disabled:hover {\n",
              "    background-color: var(--disabled-bg-color);\n",
              "    fill: var(--disabled-fill-color);\n",
              "    box-shadow: none;\n",
              "  }\n",
              "\n",
              "  .colab-df-spinner {\n",
              "    border: 2px solid var(--fill-color);\n",
              "    border-color: transparent;\n",
              "    border-bottom-color: var(--fill-color);\n",
              "    animation:\n",
              "      spin 1s steps(1) infinite;\n",
              "  }\n",
              "\n",
              "  @keyframes spin {\n",
              "    0% {\n",
              "      border-color: transparent;\n",
              "      border-bottom-color: var(--fill-color);\n",
              "      border-left-color: var(--fill-color);\n",
              "    }\n",
              "    20% {\n",
              "      border-color: transparent;\n",
              "      border-left-color: var(--fill-color);\n",
              "      border-top-color: var(--fill-color);\n",
              "    }\n",
              "    30% {\n",
              "      border-color: transparent;\n",
              "      border-left-color: var(--fill-color);\n",
              "      border-top-color: var(--fill-color);\n",
              "      border-right-color: var(--fill-color);\n",
              "    }\n",
              "    40% {\n",
              "      border-color: transparent;\n",
              "      border-right-color: var(--fill-color);\n",
              "      border-top-color: var(--fill-color);\n",
              "    }\n",
              "    60% {\n",
              "      border-color: transparent;\n",
              "      border-right-color: var(--fill-color);\n",
              "    }\n",
              "    80% {\n",
              "      border-color: transparent;\n",
              "      border-right-color: var(--fill-color);\n",
              "      border-bottom-color: var(--fill-color);\n",
              "    }\n",
              "    90% {\n",
              "      border-color: transparent;\n",
              "      border-bottom-color: var(--fill-color);\n",
              "    }\n",
              "  }\n",
              "</style>\n",
              "\n",
              "      <script>\n",
              "        async function quickchart(key) {\n",
              "          const quickchartButtonEl =\n",
              "            document.querySelector('#' + key + ' button');\n",
              "          quickchartButtonEl.disabled = true;  // To prevent multiple clicks.\n",
              "          quickchartButtonEl.classList.add('colab-df-spinner');\n",
              "          try {\n",
              "            const charts = await google.colab.kernel.invokeFunction(\n",
              "                'suggestCharts', [key], {});\n",
              "          } catch (error) {\n",
              "            console.error('Error during call to suggestCharts:', error);\n",
              "          }\n",
              "          quickchartButtonEl.classList.remove('colab-df-spinner');\n",
              "          quickchartButtonEl.classList.add('colab-df-quickchart-complete');\n",
              "        }\n",
              "        (() => {\n",
              "          let quickchartButtonEl =\n",
              "            document.querySelector('#df-aff929ba-99d0-47be-902b-8d63392baa95 button');\n",
              "          quickchartButtonEl.style.display =\n",
              "            google.colab.kernel.accessAllowed ? 'block' : 'none';\n",
              "        })();\n",
              "      </script>\n",
              "    </div>\n",
              "    </div>\n",
              "  </div>\n"
            ],
            "application/vnd.google.colaboratory.intrinsic+json": {
              "type": "dataframe",
              "variable_name": "df_full",
              "summary": "{\n  \"name\": \"df_full\",\n  \"rows\": 9704,\n  \"fields\": [\n    {\n      \"column\": \"engine_displacement\",\n      \"properties\": {\n        \"dtype\": \"number\",\n        \"std\": 49,\n        \"min\": 10,\n        \"max\": 380,\n        \"num_unique_values\": 36,\n        \"samples\": [\n          30,\n          260,\n          90\n        ],\n        \"semantic_type\": \"\",\n        \"description\": \"\"\n      }\n    },\n    {\n      \"column\": \"num_cylinders\",\n      \"properties\": {\n        \"dtype\": \"number\",\n        \"std\": 1.9993225843926064,\n        \"min\": 0.0,\n        \"max\": 13.0,\n        \"num_unique_values\": 14,\n        \"samples\": [\n          9.0,\n          10.0,\n          3.0\n        ],\n        \"semantic_type\": \"\",\n        \"description\": \"\"\n      }\n    },\n    {\n      \"column\": \"horsepower\",\n      \"properties\": {\n        \"dtype\": \"number\",\n        \"std\": 29.879555200339446,\n        \"min\": 37.0,\n        \"max\": 271.0,\n        \"num_unique_values\": 192,\n        \"samples\": [\n          128.0,\n          82.0,\n          167.0\n        ],\n        \"semantic_type\": \"\",\n        \"description\": \"\"\n      }\n    },\n    {\n      \"column\": \"vehicle_weight\",\n      \"properties\": {\n        \"dtype\": \"number\",\n        \"std\": 497.8948600311838,\n        \"min\": 952.6817606436496,\n        \"max\": 4739.077089392099,\n        \"num_unique_values\": 9704,\n        \"samples\": [\n          2535.8875912388694,\n          2741.1704843893167,\n          2471.8802372627765\n        ],\n        \"semantic_type\": \"\",\n        \"description\": \"\"\n      }\n    },\n    {\n      \"column\": \"acceleration\",\n      \"properties\": {\n        \"dtype\": \"number\",\n        \"std\": 2.510339293937879,\n        \"min\": 6.0,\n        \"max\": 24.3,\n        \"num_unique_values\": 162,\n        \"samples\": [\n          7.3,\n          20.3,\n          19.8\n        ],\n        \"semantic_type\": \"\",\n        \"description\": \"\"\n      }\n    },\n    {\n      \"column\": \"model_year\",\n      \"properties\": {\n        \"dtype\": \"number\",\n        \"std\": 6,\n        \"min\": 2000,\n        \"max\": 2023,\n        \"num_unique_values\": 24,\n        \"samples\": [\n          2005,\n          2002,\n          2003\n        ],\n        \"semantic_type\": \"\",\n        \"description\": \"\"\n      }\n    },\n    {\n      \"column\": \"origin\",\n      \"properties\": {\n        \"dtype\": \"category\",\n        \"num_unique_values\": 3,\n        \"samples\": [\n          \"Europe\",\n          \"USA\",\n          \"Asia\"\n        ],\n        \"semantic_type\": \"\",\n        \"description\": \"\"\n      }\n    },\n    {\n      \"column\": \"fuel_type\",\n      \"properties\": {\n        \"dtype\": \"category\",\n        \"num_unique_values\": 2,\n        \"samples\": [\n          \"Diesel\",\n          \"Gasoline\"\n        ],\n        \"semantic_type\": \"\",\n        \"description\": \"\"\n      }\n    },\n    {\n      \"column\": \"drivetrain\",\n      \"properties\": {\n        \"dtype\": \"category\",\n        \"num_unique_values\": 2,\n        \"samples\": [\n          \"Front-wheel drive\",\n          \"All-wheel drive\"\n        ],\n        \"semantic_type\": \"\",\n        \"description\": \"\"\n      }\n    },\n    {\n      \"column\": \"num_doors\",\n      \"properties\": {\n        \"dtype\": \"number\",\n        \"std\": 1.048162111427726,\n        \"min\": -4.0,\n        \"max\": 4.0,\n        \"num_unique_values\": 9,\n        \"samples\": [\n          -4.0,\n          2.0\n        ],\n        \"semantic_type\": \"\",\n        \"description\": \"\"\n      }\n    },\n    {\n      \"column\": \"fuel_efficiency_mpg\",\n      \"properties\": {\n        \"dtype\": \"number\",\n        \"std\": 2.5564677028974288,\n        \"min\": 6.200970533392815,\n        \"max\": 25.96722204888372,\n        \"num_unique_values\": 9704,\n        \"samples\": [\n          16.642943419221385,\n          16.298377150953442\n        ],\n        \"semantic_type\": \"\",\n        \"description\": \"\"\n      }\n    }\n  ]\n}"
            }
          },
          "metadata": {},
          "execution_count": 117
        }
      ]
    },
    {
      "cell_type": "code",
      "source": [
        "for col in df_full.columns:\n",
        "    print(col)\n",
        "    print(df_full[col].unique()[:5])\n",
        "    print(df_full[col].nunique())\n",
        "    print()"
      ],
      "metadata": {
        "colab": {
          "base_uri": "https://localhost:8080/"
        },
        "id": "Ylu5cbMnKorX",
        "outputId": "10a83ab9-d878-4d47-d807-384163f5c068"
      },
      "execution_count": 118,
      "outputs": [
        {
          "output_type": "stream",
          "name": "stdout",
          "text": [
            "engine_displacement\n",
            "[170 130 220 210 190]\n",
            "36\n",
            "\n",
            "num_cylinders\n",
            "[ 3.  5. nan  4.  1.]\n",
            "14\n",
            "\n",
            "horsepower\n",
            "[159.  97.  78.  nan 140.]\n",
            "192\n",
            "\n",
            "vehicle_weight\n",
            "[3413.43375861 3149.66493422 3079.03899737 2542.39240183 3460.87098999]\n",
            "9704\n",
            "\n",
            "acceleration\n",
            "[17.7 17.8 15.1 20.2 14.4]\n",
            "162\n",
            "\n",
            "model_year\n",
            "[2003 2007 2018 2009 2008]\n",
            "24\n",
            "\n",
            "origin\n",
            "['Europe' 'USA' 'Asia']\n",
            "3\n",
            "\n",
            "fuel_type\n",
            "['Gasoline' 'Diesel']\n",
            "2\n",
            "\n",
            "drivetrain\n",
            "['All-wheel drive' 'Front-wheel drive']\n",
            "2\n",
            "\n",
            "num_doors\n",
            "[ 0.  2. -1.  1. nan]\n",
            "9\n",
            "\n",
            "fuel_efficiency_mpg\n",
            "[13.23172891 13.68821744 14.246341   16.9127356  12.48836912]\n",
            "9704\n",
            "\n"
          ]
        }
      ]
    },
    {
      "cell_type": "code",
      "source": [
        "df_full.isnull().sum()"
      ],
      "metadata": {
        "colab": {
          "base_uri": "https://localhost:8080/",
          "height": 429
        },
        "id": "svH_TJvHOANw",
        "outputId": "8ae07146-b542-46be-c6c8-b863df98d3b4"
      },
      "execution_count": 119,
      "outputs": [
        {
          "output_type": "execute_result",
          "data": {
            "text/plain": [
              "engine_displacement      0\n",
              "num_cylinders          482\n",
              "horsepower             708\n",
              "vehicle_weight           0\n",
              "acceleration           930\n",
              "model_year               0\n",
              "origin                   0\n",
              "fuel_type                0\n",
              "drivetrain               0\n",
              "num_doors              502\n",
              "fuel_efficiency_mpg      0\n",
              "dtype: int64"
            ],
            "text/html": [
              "<div>\n",
              "<style scoped>\n",
              "    .dataframe tbody tr th:only-of-type {\n",
              "        vertical-align: middle;\n",
              "    }\n",
              "\n",
              "    .dataframe tbody tr th {\n",
              "        vertical-align: top;\n",
              "    }\n",
              "\n",
              "    .dataframe thead th {\n",
              "        text-align: right;\n",
              "    }\n",
              "</style>\n",
              "<table border=\"1\" class=\"dataframe\">\n",
              "  <thead>\n",
              "    <tr style=\"text-align: right;\">\n",
              "      <th></th>\n",
              "      <th>0</th>\n",
              "    </tr>\n",
              "  </thead>\n",
              "  <tbody>\n",
              "    <tr>\n",
              "      <th>engine_displacement</th>\n",
              "      <td>0</td>\n",
              "    </tr>\n",
              "    <tr>\n",
              "      <th>num_cylinders</th>\n",
              "      <td>482</td>\n",
              "    </tr>\n",
              "    <tr>\n",
              "      <th>horsepower</th>\n",
              "      <td>708</td>\n",
              "    </tr>\n",
              "    <tr>\n",
              "      <th>vehicle_weight</th>\n",
              "      <td>0</td>\n",
              "    </tr>\n",
              "    <tr>\n",
              "      <th>acceleration</th>\n",
              "      <td>930</td>\n",
              "    </tr>\n",
              "    <tr>\n",
              "      <th>model_year</th>\n",
              "      <td>0</td>\n",
              "    </tr>\n",
              "    <tr>\n",
              "      <th>origin</th>\n",
              "      <td>0</td>\n",
              "    </tr>\n",
              "    <tr>\n",
              "      <th>fuel_type</th>\n",
              "      <td>0</td>\n",
              "    </tr>\n",
              "    <tr>\n",
              "      <th>drivetrain</th>\n",
              "      <td>0</td>\n",
              "    </tr>\n",
              "    <tr>\n",
              "      <th>num_doors</th>\n",
              "      <td>502</td>\n",
              "    </tr>\n",
              "    <tr>\n",
              "      <th>fuel_efficiency_mpg</th>\n",
              "      <td>0</td>\n",
              "    </tr>\n",
              "  </tbody>\n",
              "</table>\n",
              "</div><br><label><b>dtype:</b> int64</label>"
            ]
          },
          "metadata": {},
          "execution_count": 119
        }
      ]
    },
    {
      "cell_type": "code",
      "source": [
        "sns.histplot(df_full.fuel_efficiency_mpg, bins=50)"
      ],
      "metadata": {
        "colab": {
          "base_uri": "https://localhost:8080/",
          "height": 468
        },
        "id": "QAhTleRwP9IR",
        "outputId": "b2f77b91-998d-437b-8cb7-1c832600d1ab"
      },
      "execution_count": 120,
      "outputs": [
        {
          "output_type": "execute_result",
          "data": {
            "text/plain": [
              "<Axes: xlabel='fuel_efficiency_mpg', ylabel='Count'>"
            ]
          },
          "metadata": {},
          "execution_count": 120
        },
        {
          "output_type": "display_data",
          "data": {
            "text/plain": [
              "<Figure size 640x480 with 1 Axes>"
            ],
            "image/png": "[encoded data removed]"
          },
          "metadata": {}
        }
      ]
    },
    {
      "cell_type": "code",
      "source": [
        "fe_mpg_logs = np.log1p(df_full.fuel_efficiency_mpg)\n",
        "sns.histplot(fe_mpg_logs, bins=50)"
      ],
      "metadata": {
        "colab": {
          "base_uri": "https://localhost:8080/",
          "height": 468
        },
        "id": "-t2zCW0tQibM",
        "outputId": "9bdc8dc7-8cca-4fce-976c-8964c02060c7"
      },
      "execution_count": 121,
      "outputs": [
        {
          "output_type": "execute_result",
          "data": {
            "text/plain": [
              "<Axes: xlabel='fuel_efficiency_mpg', ylabel='Count'>"
            ]
          },
          "metadata": {},
          "execution_count": 121
        },
        {
          "output_type": "display_data",
          "data": {
            "text/plain": [
              "<Figure size 640x480 with 1 Axes>"
            ],
            "image/png": "[encoded data removed]"
          },
          "metadata": {}
        }
      ]
    },
    {
      "cell_type": "code",
      "source": [
        "# Keep only required columns\n",
        "used_cols = ['engine_displacement','horsepower','vehicle_weight','model_year','fuel_efficiency_mpg']\n",
        "df = df_full[used_cols].copy()\n",
        "\n",
        "feature_cols = ['engine_displacement','horsepower','vehicle_weight','model_year']\n",
        "target_col   = 'fuel_efficiency_mpg'"
      ],
      "metadata": {
        "id": "KAtR6MoI0lLr"
      },
      "execution_count": 122,
      "outputs": []
    },
    {
      "cell_type": "markdown",
      "source": [
        "## Question 1. Missing values"
      ],
      "metadata": {
        "id": "Fn52ExDrvqfB"
      }
    },
    {
      "cell_type": "code",
      "source": [
        "na_cols = na_cols = df.columns[df.isna().any()].tolist()\n",
        "answer_q1 = [c for c in feature_cols if c in na_cols]\n",
        "print(\"Q1 answer:\", answer_q1[0] if answer_q1 else \"None\")\n",
        "missing_values_column_name = answer_q1[0]"
      ],
      "metadata": {
        "colab": {
          "base_uri": "https://localhost:8080/"
        },
        "id": "YAliU0sXwSy6",
        "outputId": "1d338fdb-33d2-4442-838d-5d88cb184956"
      },
      "execution_count": 123,
      "outputs": [
        {
          "output_type": "stream",
          "name": "stdout",
          "text": [
            "Q1 answer: horsepower\n"
          ]
        }
      ]
    },
    {
      "cell_type": "markdown",
      "source": [
        "## Question 2. Median for horse power"
      ],
      "metadata": {
        "id": "1RsJ3tg-vrz6"
      }
    },
    {
      "cell_type": "markdown",
      "source": [
        "What's the median (50% percentile) for variable '**horsepower**'?"
      ],
      "metadata": {
        "id": "_VRHseMD1Pr7"
      }
    },
    {
      "cell_type": "code",
      "source": [
        "hp_median = df['horsepower'].median()\n",
        "print(\"Horsepower median:\", hp_median)\n",
        "\n",
        "choices = np.array([49, 99, 149, 199])\n",
        "closest = choices[np.argmin(np.abs(choices - hp_median))]\n",
        "\n",
        "print(\"Q2 choice:\", int(closest))"
      ],
      "metadata": {
        "colab": {
          "base_uri": "https://localhost:8080/"
        },
        "id": "Ol65Tp-ywm2H",
        "outputId": "ea65ab9f-e085-4ad9-9139-deee29ccfee0"
      },
      "execution_count": 124,
      "outputs": [
        {
          "output_type": "stream",
          "name": "stdout",
          "text": [
            "Horsepower median: 149.0\n",
            "Q2 choice: 149\n"
          ]
        }
      ]
    },
    {
      "cell_type": "markdown",
      "source": [
        "## Helpers"
      ],
      "metadata": {
        "id": "KR1imwjATYIm"
      }
    },
    {
      "cell_type": "code",
      "source": [
        "# Shuffle by seed and perform 60/20/20 split; return train/val/test dataframes\n",
        "def split_60_20_20(df_in, seed):\n",
        "    d = df_in.sample(frac=1.0, random_state=seed).reset_index(drop=True)\n",
        "    n = len(d)\n",
        "    n_train = int(0.6 * n)\n",
        "    n_val   = int(0.2 * n)\n",
        "    df_train = d.iloc[:n_train].copy()\n",
        "    df_val   = d.iloc[n_train:n_train+n_val].copy()\n",
        "    df_test  = d.iloc[n_train+n_val:].copy()\n",
        "    return df_train, df_val, df_test\n",
        "\n",
        "# Calculates the Root Mean Squared Error.\n",
        "def rmse(y_true, y_pred):\n",
        "    return float(np.sqrt(np.mean((y_true - y_pred) ** 2)))\n",
        "\n",
        "def prepare_X(df_part, fill_value=0.0):\n",
        "    \"\"\"Build design matrix with bias column; fill all NaNs in features with a single value.\"\"\"\n",
        "    X = df_part[feature_cols].copy().fillna(fill_value).values\n",
        "    ones = np.ones((X.shape[0], 1))\n",
        "    return np.hstack([ones, X])\n",
        "\n",
        "# Trains a linear regression model using the normal equation.\n",
        "def train_linear_regression(X, y):\n",
        "    # Add a bias term (column of ones) to the feature matrix\n",
        "    ones = np.ones(X.shape[0])\n",
        "    X = np.column_stack([ones, X])\n",
        "\n",
        "\n",
        "    XTX = X.T.dot(X)\n",
        "    XTX_inv = np.linalg.inv(XTX)\n",
        "    w = XTX_inv.dot(X.T).dot(y)\n",
        "\n",
        "    return w[0], w[1:]\n",
        "\n",
        "# Calculates the Root Mean Squared Error.\n",
        "# def rmse(y_true, y_pred):\n",
        "#     error = y_true - y_pred\n",
        "#     mse = (error**2).mean()\n",
        "#     return np.sqrt(mse)"
      ],
      "metadata": {
        "id": "QJMxnMocTZpU"
      },
      "execution_count": 125,
      "outputs": []
    },
    {
      "cell_type": "markdown",
      "source": [
        "## Question 3. Filling NAs"
      ],
      "metadata": {
        "id": "-7-qkw-zvuiQ"
      }
    },
    {
      "cell_type": "markdown",
      "source": [
        "* We need to deal with missing values for the column from Q1.\n",
        "* We have two options: fill it with 0 or with the mean of this variable.\n",
        "* Try both options. For each, train a linear regression model without regularization using the code from the lessons.\n",
        "* For computing the mean, use the training only!\n",
        "* Use the validation dataset to evaluate the models and compare the RMSE of each option.\n",
        "* Round the RMSE scores to 2 decimal digits using round(score, 2)\n",
        "* Which option gives better RMSE?"
      ],
      "metadata": {
        "id": "PJTMcPeflE8j"
      }
    },
    {
      "cell_type": "code",
      "source": [
        "print(\"need to deal with missing values for the column: \"+ missing_values_column_name)"
      ],
      "metadata": {
        "colab": {
          "base_uri": "https://localhost:8080/"
        },
        "id": "tCXwOBD9NuHj",
        "outputId": "7fa13389-042b-45eb-bddb-ee15296df125"
      },
      "execution_count": 126,
      "outputs": [
        {
          "output_type": "stream",
          "name": "stdout",
          "text": [
            "need to deal with missing values for the column: horsepower\n"
          ]
        }
      ]
    },
    {
      "cell_type": "code",
      "source": [
        "# Shuffle the dataset (the filtered one you created above), use seed 42.\n",
        "# Split your data in train/val/test sets, with 60%/20%/20% distribution.\n",
        "df_train, df_val, df_test = split_60_20_20(df, seed=42)\n",
        "y_train = df_train[target_col].values\n",
        "y_val   = df_val[target_col].values\n",
        "y_test  = df_test[target_col].values"
      ],
      "metadata": {
        "id": "3EqVCbHqKxUK"
      },
      "execution_count": 127,
      "outputs": []
    },
    {
      "cell_type": "markdown",
      "source": [
        "OPTION A: fill with **0**"
      ],
      "metadata": {
        "id": "xDwp1c5Pl1P9"
      }
    },
    {
      "cell_type": "code",
      "source": [
        "# fill miss values as 0\n",
        "X_train_0 = df_train[feature_cols].fillna(0).to_numpy()\n",
        "y_train = df_train[target_col].to_numpy()\n",
        "\n",
        "X_val_0 = df_val[feature_cols].fillna(0).to_numpy()\n",
        "y_val = df_val[target_col].to_numpy()\n",
        "\n",
        "# train model\n",
        "w0_0, w_0 = train_linear_regression(X_train_0, y_train)\n",
        "\n",
        "# predictions for the validation set\n",
        "y_pred_0 = w0_0 + X_val_0.dot(w_0)\n",
        "\n",
        "rmse_0 = round(rmse(y_val, y_pred_0), 2)\n",
        "rmse_0"
      ],
      "metadata": {
        "colab": {
          "base_uri": "https://localhost:8080/"
        },
        "id": "yr7mUs9Zl5LD",
        "outputId": "593293a3-6857-4768-cabd-0eccac6bc635"
      },
      "execution_count": 128,
      "outputs": [
        {
          "output_type": "execute_result",
          "data": {
            "text/plain": [
              "0.52"
            ]
          },
          "metadata": {},
          "execution_count": 128
        }
      ]
    },
    {
      "cell_type": "markdown",
      "source": [
        "OPTION B: fill with **MEAN**"
      ],
      "metadata": {
        "id": "xbSIAI-rnq3y"
      }
    },
    {
      "cell_type": "code",
      "source": [
        "# Get mean of horsepower\n",
        "horsepower_mean = df_train[missing_values_column_name].mean()\n",
        "\n",
        "# add missing horsepower values\n",
        "X_train_mean = df_train[feature_cols].fillna(horsepower_mean).to_numpy()\n",
        "X_val_mean = df_val[feature_cols].fillna(horsepower_mean).to_numpy()\n",
        "\n",
        "# train  model\n",
        "w0_mean, w_mean = train_linear_regression(X_train_mean, y_train)\n",
        "\n",
        "# predictions for the validation set\n",
        "y_pred_mean = w0_mean + X_val_mean.dot(w_mean)\n",
        "\n",
        "# calculate and round the RMSE\n",
        "rmse_mean = round(rmse(y_val, y_pred_mean), 2)\n",
        "rmse_mean"
      ],
      "metadata": {
        "colab": {
          "base_uri": "https://localhost:8080/"
        },
        "id": "zuf_wlS7nwl9",
        "outputId": "42c71b8b-443a-4c5d-a6dd-dae969621062"
      },
      "execution_count": 129,
      "outputs": [
        {
          "output_type": "execute_result",
          "data": {
            "text/plain": [
              "0.46"
            ]
          },
          "metadata": {},
          "execution_count": 129
        }
      ]
    },
    {
      "cell_type": "code",
      "source": [
        "plt.figure(figsize=(10, 6))\n",
        "\n",
        "sns.histplot(y_val, bins=50, color='green', alpha=0.3, label='True Values')\n",
        "sns.histplot(y_pred_mean, bins=50, color='red', alpha=0.3, label='Predicted with Mean')\n",
        "sns.histplot(y_pred_0, bins=50, color='blue', alpha=0.3, label='Predicted with 0')\n",
        "\n",
        "plt.legend()\n",
        "\n",
        "plt.tight_layout()\n",
        "plt.show()"
      ],
      "metadata": {
        "colab": {
          "base_uri": "https://localhost:8080/",
          "height": 607
        },
        "id": "HIa3g1u4tX24",
        "outputId": "31cfd493-a2f9-4777-bec9-f8c05f8e27fe"
      },
      "execution_count": 130,
      "outputs": [
        {
          "output_type": "display_data",
          "data": {
            "text/plain": [
              "<Figure size 1000x600 with 1 Axes>"
            ],
            "image/png": "[encoded data removed]"
          },
          "metadata": {}
        }
      ]
    },
    {
      "cell_type": "code",
      "source": [
        "if rmse_mean < rmse_0:\n",
        "    print(f\"Mean values are better. RMSE: {rmse_mean}\")\n",
        "elif rmse_mean > rmse_0:\n",
        "    print(f\"Zero values are better. RMSE: {rmse_0}\")\n",
        "else:\n",
        "    print(f\"Both are equal. RMSE: {rmse_mean}\")"
      ],
      "metadata": {
        "colab": {
          "base_uri": "https://localhost:8080/"
        },
        "id": "6-THfIFNtvcI",
        "outputId": "d38a35bf-be65-4813-e7ec-41fe63ca307c"
      },
      "execution_count": 131,
      "outputs": [
        {
          "output_type": "stream",
          "name": "stdout",
          "text": [
            "Mean values are better. RMSE: 0.46\n"
          ]
        }
      ]
    },
    {
      "cell_type": "markdown",
      "source": [
        "## Question 4. Best regularization\n",
        "* We used seed 42 for splitting the data. Let's find out how selecting the seed influences our score.\n",
        "* Try different seed values: [0, 1, 2, 3, 4, 5, 6, 7, 8, 9].\n",
        "* For each seed, do the train/validation/test split with 60%/20%/20% distribution.\n",
        "* Fill the missing values with 0 and train a model without regularization.\n",
        "* For each seed, evaluate the model on the validation dataset and collect the RMSE scores.\n",
        "* What's the standard deviation of all the scores? To compute the standard deviation, use np.std.\n",
        "* Round the result to 3 decimal digits (round(std, 3))"
      ],
      "metadata": {
        "id": "9x9tnQI_vzHc"
      }
    },
    {
      "cell_type": "code",
      "source": [
        "def train_linear_regression_reg(X, y, r=0.0):\n",
        "    \"\"\"\n",
        "    Trains a regularized linear regression model using the normal equation.\n",
        "    \"\"\"\n",
        "    # Add a bias term (column of ones)\n",
        "    ones = np.ones(X.shape[0])\n",
        "    X = np.column_stack([ones, X])\n",
        "\n",
        "    # Normal equation with regularization: w = (X^T*X + r*I)^-1 * X^T*y\n",
        "    XTX = X.T.dot(X)\n",
        "\n",
        "    # Create the identity matrix for regularization\n",
        "    reg = r * np.eye(XTX.shape[0])\n",
        "\n",
        "    # Set the first element to 0 to not regularize the bias term\n",
        "    # reg[0, 0] = 0\n",
        "\n",
        "    XTX = XTX + reg\n",
        "\n",
        "    XTX_inv = np.linalg.inv(XTX)\n",
        "    w = XTX_inv.dot(X.T).dot(y)\n",
        "\n",
        "    return w[0], w[1:]"
      ],
      "metadata": {
        "id": "z0bXODevyF0B"
      },
      "execution_count": 132,
      "outputs": []
    },
    {
      "cell_type": "code",
      "source": [
        "r_values = [0, 0.01, 0.1, 1, 5, 10, 100]\n",
        "rmse_scores = {}\n",
        "\n",
        "for r in r_values:\n",
        "    # Train the regularized model\n",
        "    w0, w = train_linear_regression_reg(X_train_0, y_train, r=r)\n",
        "\n",
        "    # Make predictions on the validation set\n",
        "    y_pred = w0 + X_val_0.dot(w)\n",
        "\n",
        "    # Calculate and round the RMSE\n",
        "    score = round(rmse(y_val, y_pred), 2)\n",
        "\n",
        "    # Store the result\n",
        "    rmse_scores[r] = score\n",
        "\n",
        "    print(f\"r = {r:<4} | RMSE = {score}\")"
      ],
      "metadata": {
        "colab": {
          "base_uri": "https://localhost:8080/"
        },
        "id": "AvlepHxlyI5v",
        "outputId": "c5b4ad4f-1723-492c-edbc-fc3dd91441ec"
      },
      "execution_count": 133,
      "outputs": [
        {
          "output_type": "stream",
          "name": "stdout",
          "text": [
            "r = 0    | RMSE = 0.52\n",
            "r = 0.01 | RMSE = 0.52\n",
            "r = 0.1  | RMSE = 0.52\n",
            "r = 1    | RMSE = 0.52\n",
            "r = 5    | RMSE = 0.52\n",
            "r = 10   | RMSE = 0.52\n",
            "r = 100  | RMSE = 0.52\n"
          ]
        }
      ]
    },
    {
      "cell_type": "code",
      "source": [
        "def prepare_X_zero(df_part):\n",
        "    \"\"\"Build design matrix with bias column; fill all NaNs in features with 0.\"\"\"\n",
        "    X = df_part[feature_cols].copy().fillna(0.0).values\n",
        "    ones = np.ones((X.shape[0], 1))  # bias term\n",
        "    return np.hstack([ones, X])\n",
        "\n",
        "r_values = [0, 0.01, 0.1, 1, 5, 10, 100]\n",
        "rounded_scores = {}\n",
        "\n",
        "X_tr = prepare_X_zero(df_train)\n",
        "X_va = prepare_X_zero(df_val)\n",
        "\n",
        "for r in r_values:\n",
        "    # Train the regularized model\n",
        "    w0, w = train_linear_regression_reg(X_train_0, y_train, r=r)\n",
        "\n",
        "    # Make predictions on the validation set\n",
        "    y_pred = w0 + X_val_0.dot(w)\n",
        "\n",
        "    # Calculate and round the RMSE\n",
        "    score = round(rmse(y_val, y_pred), 2)\n",
        "\n",
        "    # Store the result\n",
        "    rounded_scores[r] = score\n",
        "\n",
        "\n",
        "for r in r_values:\n",
        "  print(f\"r={r}: RMSE={rounded_scores[r]}\")\n",
        "\n",
        "# Select best r based on the rounded RMSE; break ties by picking the smallest r\n",
        "best_rmse_rounded = min(rounded_scores.values())\n",
        "best_candidates = [r for r, s in rounded_scores.items() if s == best_rmse_rounded]\n",
        "best_r = min(best_candidates)\n",
        "print()\n",
        "print(\"Best RMSE (rounded):\", best_rmse_rounded)\n",
        "print(\"Q4 choice (best r):\", best_r)"
      ],
      "metadata": {
        "colab": {
          "base_uri": "https://localhost:8080/"
        },
        "id": "MJHjfXgmeM73",
        "outputId": "3f7c9ec3-a452-4f4c-e958-83e4d68d58e4"
      },
      "execution_count": 134,
      "outputs": [
        {
          "output_type": "stream",
          "name": "stdout",
          "text": [
            "r=0: RMSE=0.52\n",
            "r=0.01: RMSE=0.52\n",
            "r=0.1: RMSE=0.52\n",
            "r=1: RMSE=0.52\n",
            "r=5: RMSE=0.52\n",
            "r=10: RMSE=0.52\n",
            "r=100: RMSE=0.52\n",
            "\n",
            "Best RMSE (rounded): 0.52\n",
            "Q4 choice (best r): 0\n"
          ]
        }
      ]
    },
    {
      "cell_type": "markdown",
      "source": [
        "## Question 5. RMSE Standard Deviation\n",
        "* We used seed 42 for splitting the data. Let's find out how selecting the seed influences our score.\n",
        "* Try different seed values: [0, 1, 2, 3, 4, 5, 6, 7, 8, 9].\n",
        "* For each seed, do the train/validation/test split with 60%/20%/20% distribution.\n",
        "* Fill the missing values with 0 and train a model without regularization.\n",
        "* For each seed, evaluate the model on the validation dataset and collect the RMSE scores.\n",
        "* What's the standard deviation of all the scores? To compute the standard deviation, use np.std.\n",
        "* Round the result to 3 decimal digits (round(std, 3))"
      ],
      "metadata": {
        "id": "vVlLVehrv2Av"
      }
    },
    {
      "cell_type": "code",
      "source": [
        "seeds = [0, 1, 2, 3, 4, 5, 6, 7, 8, 9, 42]\n",
        "rmse_scores = []\n",
        "\n",
        "for seed in seeds:\n",
        "    df_train, df_val, df_test = split_60_20_20(df, seed)\n",
        "\n",
        "    # Prepare data (fill missing values with 0)\n",
        "    X_train = df_train[feature_cols].fillna(0).to_numpy()\n",
        "    y_train = df_train[target_col].to_numpy()\n",
        "\n",
        "    X_val = df_val[feature_cols].fillna(0).to_numpy()\n",
        "    y_val = df_val[target_col].to_numpy()\n",
        "\n",
        "    # Train the model (without regularization)\n",
        "    w0, w = train_linear_regression(X_train, y_train)\n",
        "    y_pred = w0 + X_val.dot(w)\n",
        "\n",
        "    # Calculate and store the score\n",
        "    score = rmse(y_val, y_pred)\n",
        "    rmse_scores.append(score)\n",
        "\n",
        "    print(f\"Seed: {seed} -> RMSE: {round(score, 3)}\")"
      ],
      "metadata": {
        "colab": {
          "base_uri": "https://localhost:8080/"
        },
        "id": "hhCi4iY_ceRG",
        "outputId": "dbf72220-f95b-484d-c904-81a4dff4bea8"
      },
      "execution_count": 135,
      "outputs": [
        {
          "output_type": "stream",
          "name": "stdout",
          "text": [
            "Seed: 0 -> RMSE: 0.521\n",
            "Seed: 1 -> RMSE: 0.522\n",
            "Seed: 2 -> RMSE: 0.523\n",
            "Seed: 3 -> RMSE: 0.516\n",
            "Seed: 4 -> RMSE: 0.511\n",
            "Seed: 5 -> RMSE: 0.529\n",
            "Seed: 6 -> RMSE: 0.532\n",
            "Seed: 7 -> RMSE: 0.51\n",
            "Seed: 8 -> RMSE: 0.515\n",
            "Seed: 9 -> RMSE: 0.513\n",
            "Seed: 42 -> RMSE: 0.517\n"
          ]
        }
      ]
    },
    {
      "cell_type": "code",
      "source": [
        "std_dev = round(np.std(rmse_scores), 5)\n",
        "print(f\"The standard deviation of the RMSE scores is: {std_dev}\")"
      ],
      "metadata": {
        "colab": {
          "base_uri": "https://localhost:8080/"
        },
        "id": "vkvjqBI4dA-R",
        "outputId": "c49c3a2d-3d57-49fc-e9cf-6e665d6eb14e"
      },
      "execution_count": 136,
      "outputs": [
        {
          "output_type": "stream",
          "name": "stdout",
          "text": [
            "The standard deviation of the RMSE scores is: 0.00682\n"
          ]
        }
      ]
    },
    {
      "cell_type": "markdown",
      "source": [
        "## Question 6. Evaluation on test"
      ],
      "metadata": {
        "id": "Vx5_sKM-v5Bn"
      }
    },
    {
      "cell_type": "code",
      "source": [
        "df_train, df_val, df_test = split_60_20_20(df, seed=42)\n",
        "\n",
        "# Combine train and validation datasets\n",
        "df_train_val = pd.concat([df_train, df_val]).reset_index(drop=True)\n",
        "\n",
        "# Prepare data (fill missing values with 0)\n",
        "X_train_val = df_train_val[feature_cols].fillna(0).to_numpy()\n",
        "y_train_val = df_train_val[target_col].to_numpy()\n",
        "\n",
        "X_test = df_test[feature_cols].fillna(0).to_numpy()\n",
        "y_test = df_test[target_col].to_numpy()\n",
        "\n",
        "# --- Prepare matrices and fit ridge with r=0.001 ---\n",
        "w0, w = train_linear_regression_reg(X_train_val, y_train_val, r=0.001)\n",
        "\n",
        "# Make predictions on the test set\n",
        "y_pred_test = w0 + X_test.dot(w)\n",
        "\n",
        "# --- Evaluate on test and map to nearest quiz option ---\n",
        "test_rmse_rounded = round(rmse(y_test, y_pred_test), 4)\n",
        "\n",
        "print(f\"The RMSE(seed=9, r=0.001): {test_rmse_rounded}\")\n",
        "\n",
        "# Answer\n",
        "options = np.array([0.15, 0.515, 5.15, 51.5])\n",
        "nearest = options[np.argmin(np.abs(options - test_rmse_rounded))]\n",
        "print(\"Q6 choice:\", nearest)"
      ],
      "metadata": {
        "colab": {
          "base_uri": "https://localhost:8080/"
        },
        "id": "Q38e7QaZrYLL",
        "outputId": "af50adad-9b20-4101-b58a-215b4d8895da"
      },
      "execution_count": 137,
      "outputs": [
        {
          "output_type": "stream",
          "name": "stdout",
          "text": [
            "The RMSE(seed=9, r=0.001): 0.5165\n",
            "Q6 choice: 0.515\n"
          ]
        }
      ]
    }
  ]
}